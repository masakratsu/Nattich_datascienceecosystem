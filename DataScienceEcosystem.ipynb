{
 "cells": [
  {
   "cell_type": "markdown",
   "id": "644fc2a7-75c4-428b-b852-e6375bab23dd",
   "metadata": {
    "tags": []
   },
   "source": [
    "# Data Science Tools and Ecosystem"
   ]
  },
  {
   "cell_type": "markdown",
   "id": "b2cc7abb-a99e-42b6-bb9d-accc7cdff46d",
   "metadata": {},
   "source": [
    "## Author\n",
    "Radoslaw 'Radek' Nattich"
   ]
  },
  {
   "cell_type": "markdown",
   "id": "5efb80a1-a1a6-436c-86eb-a78a98a797af",
   "metadata": {},
   "source": [
    "In this notebook, Data Science Tools and Ecosystem are summarized."
   ]
  },
  {
   "cell_type": "markdown",
   "id": "929e6164-3154-432d-b21b-d9562c188271",
   "metadata": {},
   "source": [
    "## Objectives:\n",
    "- Popular languages in Data Science\n",
    "- Commonly used libraries in Data Science\n",
    "- Data Science tools\n",
    "- Arithmetic expressions in Python"
   ]
  },
  {
   "cell_type": "markdown",
   "id": "cf85205a-d54c-41b9-a4bd-2b174d3e3a54",
   "metadata": {},
   "source": [
    "Some of the popular languages that Data Scientists use are:\n",
    "1. Python\n",
    "1. R\n",
    "1. SQL\n",
    "1. Java\n",
    "1. Julia\n",
    "1. Scala"
   ]
  },
  {
   "cell_type": "markdown",
   "id": "b6585c66-d736-443a-8320-148cb191bc06",
   "metadata": {},
   "source": [
    "Some of the commonly used libraries used by Data Scientists include:\n",
    "1. Pandas\n",
    "1. NymPy\n",
    "1. matplotlib\n",
    "1. Tensorflow\n",
    "1. PyTorch\n"
   ]
  },
  {
   "cell_type": "markdown",
   "id": "30753a03-16a1-4a01-9b89-9072d1c48686",
   "metadata": {},
   "source": [
    "| Data Science Tools |\n",
    "|----------|\n",
    "| Jupyter Notebooks |\n",
    "| R Studio |\n",
    "| Apache Zeppelin |"
   ]
  },
  {
   "cell_type": "markdown",
   "id": "9f6ab2d1-ac23-4e66-b76e-0dfe11389e2f",
   "metadata": {
    "tags": []
   },
   "source": [
    "### Below are a few examples of evaluating arithmetic expressions in Python"
   ]
  },
  {
   "cell_type": "code",
   "execution_count": null,
   "id": "ed719c5e-d8fa-4357-9e92-97ff401cb444",
   "metadata": {},
   "outputs": [],
   "source": [
    "result = 5 + 3\n",
    "print(result)  # Output: 8\n",
    "\n",
    "result = 2 * (4 + 3)\n",
    "print(result)  # Output: 14\n",
    "\n",
    "a = 10\n",
    "b = 5\n",
    "result = a - b\n",
    "print(result)  # Output: 5\n",
    "\n",
    "result = 10 / 2\n",
    "print(result)  # Output: 5.0\n",
    "\n",
    "result = 2 ** 3\n",
    "print(result)  # Output: 8\n",
    "\n",
    "result = (4 + 3) * 2\n",
    "print(result)  # Output: 14\n",
    "\n",
    "result = 3 * (7 + 2) - (4 / 2)\n",
    "print(result)  # Output: 23.0\n",
    "\n",
    "result = 3.5 * 2\n",
    "print(result)  # Output: 7.0\n"
   ]
  },
  {
   "cell_type": "code",
   "execution_count": 1,
   "id": "47c8a610-41b5-43be-a145-70c9e31334f9",
   "metadata": {
    "tags": []
   },
   "outputs": [
    {
     "name": "stdout",
     "output_type": "stream",
     "text": [
      "17\n"
     ]
    }
   ],
   "source": [
    "result = (3*4)+5 #This a simple arithmetic expression to mutiply then add integers\n",
    "print(result)\n"
   ]
  },
  {
   "cell_type": "code",
   "execution_count": 3,
   "id": "c5c7721e-e3cc-436a-b1b7-1b2073142127",
   "metadata": {
    "tags": []
   },
   "outputs": [
    {
     "name": "stdout",
     "output_type": "stream",
     "text": [
      "3 hours and 20 minutes\n"
     ]
    }
   ],
   "source": [
    "#This will convert 200 minutes to hours by diving by 60\n",
    "\n",
    "minutes = 200\n",
    "hours = minutes // 60  # Using // for integer division\n",
    "remaining_minutes = minutes % 60  # The remainder after dividing by 60 gives the remaining minutes\n",
    "print(f\"{hours} hours and {remaining_minutes} minutes\")"
   ]
  },
  {
   "cell_type": "code",
   "execution_count": null,
   "id": "aa7b68a0-e696-47ad-9382-e603d64949a0",
   "metadata": {},
   "outputs": [],
   "source": []
  }
 ],
 "metadata": {
  "kernelspec": {
   "display_name": "Python",
   "language": "python",
   "name": "conda-env-python-py"
  },
  "language_info": {
   "codemirror_mode": {
    "name": "ipython",
    "version": 3
   },
   "file_extension": ".py",
   "mimetype": "text/x-python",
   "name": "python",
   "nbconvert_exporter": "python",
   "pygments_lexer": "ipython3",
   "version": "3.7.12"
  }
 },
 "nbformat": 4,
 "nbformat_minor": 5
}
